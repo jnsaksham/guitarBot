{
 "cells": [
  {
   "cell_type": "code",
   "execution_count": 11,
   "metadata": {},
   "outputs": [],
   "source": [
    "import numpy as np\n",
    "import pandas as pd"
   ]
  },
  {
   "cell_type": "code",
   "execution_count": 12,
   "metadata": {},
   "outputs": [],
   "source": [
    "all_chds = pd.read_csv('all_chords.csv')"
   ]
  },
  {
   "cell_type": "code",
   "execution_count": 13,
   "metadata": {},
   "outputs": [],
   "source": [
    "def countRowsByChordTypeRootNumstrings(df, chordType, root, numStrings):\n",
    "    if numStrings != '*':\n",
    "        return df[(df['ChordType'] == chordType) & (df['Root'] == root) & (df['NumStrings'] == numStrings)].shape[0]\n",
    "    else:\n",
    "        return countRowsByChordTypeRoot(df, chordType, root)\n",
    "\n",
    "def countRowsByChordTypeRoot(df, chordType, root):\n",
    "    return df[(df['ChordType'] == chordType) & (df['Root'] == root)].shape[0]"
   ]
  },
  {
   "cell_type": "code",
   "execution_count": 36,
   "metadata": {},
   "outputs": [
    {
     "data": {
      "text/plain": [
       "1090"
      ]
     },
     "execution_count": 36,
     "metadata": {},
     "output_type": "execute_result"
    }
   ],
   "source": [
    "root = 'A'\n",
    "chordType = 'Minor' # Can be 'Major', 'Minor', 'Dom7', 'Major7', 'Minor7'\n",
    "numStrings = \"*\" # Can be 3, 4, 5, 6 or '*' \n",
    "f = countRowsByChordTypeRootNumstrings(all_chds, chordType, root, numStrings)\n",
    "f"
   ]
  },
  {
   "cell_type": "markdown",
   "metadata": {},
   "source": [
    "## DF transformation for indexing chords"
   ]
  },
  {
   "cell_type": "code",
   "execution_count": 3,
   "metadata": {},
   "outputs": [],
   "source": [
    "from transformChord import transformDFtoIndexable\n",
    "\n",
    "df_tmp = transformDFtoIndexable('all_chords.csv', 6)"
   ]
  },
  {
   "cell_type": "code",
   "execution_count": 4,
   "metadata": {},
   "outputs": [
    {
     "data": {
      "text/html": [
       "<div>\n",
       "<style scoped>\n",
       "    .dataframe tbody tr th:only-of-type {\n",
       "        vertical-align: middle;\n",
       "    }\n",
       "\n",
       "    .dataframe tbody tr th {\n",
       "        vertical-align: top;\n",
       "    }\n",
       "\n",
       "    .dataframe thead th {\n",
       "        text-align: right;\n",
       "    }\n",
       "</style>\n",
       "<table border=\"1\" class=\"dataframe\">\n",
       "  <thead>\n",
       "    <tr style=\"text-align: right;\">\n",
       "      <th></th>\n",
       "      <th>LETTER</th>\n",
       "      <th>TYPE</th>\n",
       "      <th>INVERSION</th>\n",
       "      <th>STRINGONE</th>\n",
       "      <th>STRINGTWO</th>\n",
       "      <th>STRINGTHREE</th>\n",
       "      <th>STRINGFOUR</th>\n",
       "      <th>STRINGFIVE</th>\n",
       "      <th>STRINGSIX</th>\n",
       "      <th>SHAPE</th>\n",
       "    </tr>\n",
       "  </thead>\n",
       "  <tbody>\n",
       "    <tr>\n",
       "      <th>761</th>\n",
       "      <td>A</td>\n",
       "      <td>Major761</td>\n",
       "      <td>0</td>\n",
       "      <td>5.0</td>\n",
       "      <td>4.0</td>\n",
       "      <td>2.0</td>\n",
       "      <td>2.0</td>\n",
       "      <td>2.0</td>\n",
       "      <td>5.0</td>\n",
       "      <td>761</td>\n",
       "    </tr>\n",
       "    <tr>\n",
       "      <th>762</th>\n",
       "      <td>A</td>\n",
       "      <td>Major762</td>\n",
       "      <td>0</td>\n",
       "      <td>9.0</td>\n",
       "      <td>0.0</td>\n",
       "      <td>2.0</td>\n",
       "      <td>2.0</td>\n",
       "      <td>2.0</td>\n",
       "      <td>5.0</td>\n",
       "      <td>762</td>\n",
       "    </tr>\n",
       "    <tr>\n",
       "      <th>763</th>\n",
       "      <td>A</td>\n",
       "      <td>Major763</td>\n",
       "      <td>0</td>\n",
       "      <td>5.0</td>\n",
       "      <td>4.0</td>\n",
       "      <td>7.0</td>\n",
       "      <td>6.0</td>\n",
       "      <td>5.0</td>\n",
       "      <td>5.0</td>\n",
       "      <td>763</td>\n",
       "    </tr>\n",
       "    <tr>\n",
       "      <th>764</th>\n",
       "      <td>A</td>\n",
       "      <td>Major764</td>\n",
       "      <td>0</td>\n",
       "      <td>5.0</td>\n",
       "      <td>4.0</td>\n",
       "      <td>7.0</td>\n",
       "      <td>6.0</td>\n",
       "      <td>10.0</td>\n",
       "      <td>0.0</td>\n",
       "      <td>764</td>\n",
       "    </tr>\n",
       "    <tr>\n",
       "      <th>765</th>\n",
       "      <td>A</td>\n",
       "      <td>Major765</td>\n",
       "      <td>0</td>\n",
       "      <td>5.0</td>\n",
       "      <td>4.0</td>\n",
       "      <td>7.0</td>\n",
       "      <td>9.0</td>\n",
       "      <td>2.0</td>\n",
       "      <td>5.0</td>\n",
       "      <td>765</td>\n",
       "    </tr>\n",
       "  </tbody>\n",
       "</table>\n",
       "</div>"
      ],
      "text/plain": [
       "    LETTER      TYPE  INVERSION STRINGONE STRINGTWO STRINGTHREE STRINGFOUR  \\\n",
       "761      A  Major761          0       5.0       4.0         2.0        2.0   \n",
       "762      A  Major762          0       9.0       0.0         2.0        2.0   \n",
       "763      A  Major763          0       5.0       4.0         7.0        6.0   \n",
       "764      A  Major764          0       5.0       4.0         7.0        6.0   \n",
       "765      A  Major765          0       5.0       4.0         7.0        9.0   \n",
       "\n",
       "    STRINGFIVE STRINGSIX  SHAPE  \n",
       "761        2.0       5.0    761  \n",
       "762        2.0       5.0    762  \n",
       "763        5.0       5.0    763  \n",
       "764       10.0       0.0    764  \n",
       "765        2.0       5.0    765  "
      ]
     },
     "execution_count": 4,
     "metadata": {},
     "output_type": "execute_result"
    }
   ],
   "source": [
    "df_tmp.head()"
   ]
  },
  {
   "cell_type": "code",
   "execution_count": 6,
   "metadata": {},
   "outputs": [],
   "source": [
    "df_tmp.to_csv('all_chords_sixstrings.csv', index=False)"
   ]
  },
  {
   "cell_type": "code",
   "execution_count": 9,
   "metadata": {},
   "outputs": [],
   "source": [
    "# write a function to get an array [String1, String2, String3, String4, String5, String6] from a row in the dataframe based on root and chordType\n",
    "\n",
    "def getChordArray(df, root, chordType):\n",
    "    return df[(df['LETTER'] == root) & (df['TYPE'] == chordType)].values[0][3:9]"
   ]
  },
  {
   "cell_type": "code",
   "execution_count": 10,
   "metadata": {},
   "outputs": [
    {
     "data": {
      "text/plain": [
       "array(['5.0', '4.0', '7.0', '6.0', '5.0', '5.0'], dtype=object)"
      ]
     },
     "execution_count": 10,
     "metadata": {},
     "output_type": "execute_result"
    }
   ],
   "source": [
    "getChordArray(df_tmp, 'A', 'Major763')"
   ]
  },
  {
   "cell_type": "code",
   "execution_count": null,
   "metadata": {},
   "outputs": [],
   "source": []
  }
 ],
 "metadata": {
  "kernelspec": {
   "display_name": "Python 3.6.5 64-bit ('3.6.5')",
   "language": "python",
   "name": "python3"
  },
  "language_info": {
   "codemirror_mode": {
    "name": "ipython",
    "version": 3
   },
   "file_extension": ".py",
   "mimetype": "text/x-python",
   "name": "python",
   "nbconvert_exporter": "python",
   "pygments_lexer": "ipython3",
   "version": "3.6.5"
  },
  "orig_nbformat": 4,
  "vscode": {
   "interpreter": {
    "hash": "607131a3d2a3dc43a1f8bac75288c1a017c2109cf12abfcb8b89d72723bd5f65"
   }
  }
 },
 "nbformat": 4,
 "nbformat_minor": 2
}
