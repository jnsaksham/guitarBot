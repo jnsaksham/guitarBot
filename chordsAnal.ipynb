{
 "cells": [
  {
   "cell_type": "code",
   "execution_count": 3,
   "metadata": {},
   "outputs": [],
   "source": [
    "import numpy as np\n",
    "import pandas as pd"
   ]
  },
  {
   "cell_type": "code",
   "execution_count": 4,
   "metadata": {},
   "outputs": [],
   "source": [
    "all_chds = pd.read_csv('all_chords_9frets.csv')"
   ]
  },
  {
   "cell_type": "code",
   "execution_count": 5,
   "metadata": {},
   "outputs": [],
   "source": [
    "def countRowsByChordTypeRootNumstrings(df, chordType, root, numStrings):\n",
    "    if numStrings != '*':\n",
    "        return df[(df['ChordType'] == chordType) & (df['Root'] == root) & (df['NumStrings'] == numStrings)].shape[0]\n",
    "    else:\n",
    "        return countRowsByChordTypeRoot(df, chordType, root)\n",
    "\n",
    "def countRowsByChordTypeRoot(df, chordType, root):\n",
    "    return df[(df['ChordType'] == chordType) & (df['Root'] == root)].shape[0]"
   ]
  },
  {
   "cell_type": "code",
   "execution_count": 6,
   "metadata": {},
   "outputs": [
    {
     "data": {
      "text/plain": [
       "634"
      ]
     },
     "execution_count": 6,
     "metadata": {},
     "output_type": "execute_result"
    }
   ],
   "source": [
    "root = 'A'\n",
    "chordType = 'Minor' # Can be 'Major', 'Minor', 'Dom7', 'Major7', 'Minor7'\n",
    "numStrings = \"*\" # Can be 3, 4, 5, 6 or '*' \n",
    "f = countRowsByChordTypeRootNumstrings(all_chds, chordType, root, numStrings)\n",
    "f"
   ]
  },
  {
   "cell_type": "markdown",
   "metadata": {},
   "source": [
    "## DF transformation for indexing chords"
   ]
  },
  {
   "cell_type": "code",
   "execution_count": 2,
   "metadata": {},
   "outputs": [],
   "source": [
    "from transformChord import transformDFtoIndexable\n",
    "\n",
    "df_tmp = transformDFtoIndexable('all_chords_9frets.csv', 6)"
   ]
  },
  {
   "cell_type": "code",
   "execution_count": 3,
   "metadata": {},
   "outputs": [
    {
     "data": {
      "text/html": [
       "<div>\n",
       "<style scoped>\n",
       "    .dataframe tbody tr th:only-of-type {\n",
       "        vertical-align: middle;\n",
       "    }\n",
       "\n",
       "    .dataframe tbody tr th {\n",
       "        vertical-align: top;\n",
       "    }\n",
       "\n",
       "    .dataframe thead th {\n",
       "        text-align: right;\n",
       "    }\n",
       "</style>\n",
       "<table border=\"1\" class=\"dataframe\">\n",
       "  <thead>\n",
       "    <tr style=\"text-align: right;\">\n",
       "      <th></th>\n",
       "      <th>LETTER</th>\n",
       "      <th>TYPE</th>\n",
       "      <th>INVERSION</th>\n",
       "      <th>STRINGONE</th>\n",
       "      <th>STRINGTWO</th>\n",
       "      <th>STRINGTHREE</th>\n",
       "      <th>STRINGFOUR</th>\n",
       "      <th>STRINGFIVE</th>\n",
       "      <th>STRINGSIX</th>\n",
       "      <th>SHAPE</th>\n",
       "    </tr>\n",
       "  </thead>\n",
       "  <tbody>\n",
       "    <tr>\n",
       "      <th>573</th>\n",
       "      <td>A</td>\n",
       "      <td>Major</td>\n",
       "      <td>0</td>\n",
       "      <td>5.0</td>\n",
       "      <td>4.0</td>\n",
       "      <td>2.0</td>\n",
       "      <td>2.0</td>\n",
       "      <td>2.0</td>\n",
       "      <td>5.0</td>\n",
       "      <td>573</td>\n",
       "    </tr>\n",
       "    <tr>\n",
       "      <th>574</th>\n",
       "      <td>A</td>\n",
       "      <td>Major</td>\n",
       "      <td>0</td>\n",
       "      <td>9.0</td>\n",
       "      <td>0.0</td>\n",
       "      <td>2.0</td>\n",
       "      <td>2.0</td>\n",
       "      <td>2.0</td>\n",
       "      <td>5.0</td>\n",
       "      <td>574</td>\n",
       "    </tr>\n",
       "    <tr>\n",
       "      <th>575</th>\n",
       "      <td>A</td>\n",
       "      <td>Major</td>\n",
       "      <td>0</td>\n",
       "      <td>5.0</td>\n",
       "      <td>4.0</td>\n",
       "      <td>7.0</td>\n",
       "      <td>6.0</td>\n",
       "      <td>5.0</td>\n",
       "      <td>5.0</td>\n",
       "      <td>575</td>\n",
       "    </tr>\n",
       "    <tr>\n",
       "      <th>576</th>\n",
       "      <td>A</td>\n",
       "      <td>Major</td>\n",
       "      <td>0</td>\n",
       "      <td>5.0</td>\n",
       "      <td>4.0</td>\n",
       "      <td>7.0</td>\n",
       "      <td>9.0</td>\n",
       "      <td>2.0</td>\n",
       "      <td>5.0</td>\n",
       "      <td>576</td>\n",
       "    </tr>\n",
       "    <tr>\n",
       "      <th>577</th>\n",
       "      <td>A</td>\n",
       "      <td>Major</td>\n",
       "      <td>0</td>\n",
       "      <td>9.0</td>\n",
       "      <td>0.0</td>\n",
       "      <td>7.0</td>\n",
       "      <td>6.0</td>\n",
       "      <td>5.0</td>\n",
       "      <td>5.0</td>\n",
       "      <td>577</td>\n",
       "    </tr>\n",
       "  </tbody>\n",
       "</table>\n",
       "</div>"
      ],
      "text/plain": [
       "    LETTER   TYPE  INVERSION STRINGONE STRINGTWO STRINGTHREE STRINGFOUR  \\\n",
       "573      A  Major          0       5.0       4.0         2.0        2.0   \n",
       "574      A  Major          0       9.0       0.0         2.0        2.0   \n",
       "575      A  Major          0       5.0       4.0         7.0        6.0   \n",
       "576      A  Major          0       5.0       4.0         7.0        9.0   \n",
       "577      A  Major          0       9.0       0.0         7.0        6.0   \n",
       "\n",
       "    STRINGFIVE STRINGSIX  SHAPE  \n",
       "573        2.0       5.0    573  \n",
       "574        2.0       5.0    574  \n",
       "575        5.0       5.0    575  \n",
       "576        2.0       5.0    576  \n",
       "577        5.0       5.0    577  "
      ]
     },
     "execution_count": 3,
     "metadata": {},
     "output_type": "execute_result"
    }
   ],
   "source": [
    "df_tmp.head()"
   ]
  },
  {
   "cell_type": "code",
   "execution_count": 4,
   "metadata": {},
   "outputs": [],
   "source": [
    "# Check if a folder exists, if not create it\n",
    "import os\n",
    "folderName = 'chord_databases'\n",
    "if not os.path.exists(folderName):\n",
    "    os.mkdir('chord_databases')\n",
    "\n",
    "df_tmp.to_csv(f'all_chords_9frets_sixstrings_vf.csv', index=False)"
   ]
  },
  {
   "cell_type": "code",
   "execution_count": 9,
   "metadata": {},
   "outputs": [],
   "source": [
    "# write a function to get an array [String1, String2, String3, String4, String5, String6] from a row in the dataframe based on root and chordType\n",
    "\n",
    "def getChordArray(df, root, chordType):\n",
    "    return df[(df['LETTER'] == root) & (df['TYPE'] == chordType)].values[0][3:9]"
   ]
  },
  {
   "cell_type": "code",
   "execution_count": 10,
   "metadata": {},
   "outputs": [
    {
     "data": {
      "text/plain": [
       "array(['5.0', '4.0', '7.0', '6.0', '5.0', '5.0'], dtype=object)"
      ]
     },
     "execution_count": 10,
     "metadata": {},
     "output_type": "execute_result"
    }
   ],
   "source": [
    "getChordArray(df_tmp, 'A', 'Major763')"
   ]
  },
  {
   "cell_type": "markdown",
   "metadata": {},
   "source": [
    "## Tests"
   ]
  },
  {
   "cell_type": "code",
   "execution_count": 5,
   "metadata": {},
   "outputs": [],
   "source": [
    "from dict_maps import note_midi_dict"
   ]
  },
  {
   "cell_type": "code",
   "execution_count": 7,
   "metadata": {},
   "outputs": [
    {
     "data": {
      "text/plain": [
       "[47, 59, 71]"
      ]
     },
     "execution_count": 7,
     "metadata": {},
     "output_type": "execute_result"
    }
   ],
   "source": [
    "root = 'B'\n",
    "note_midi_dict[root]"
   ]
  },
  {
   "cell_type": "code",
   "execution_count": null,
   "metadata": {},
   "outputs": [],
   "source": []
  }
 ],
 "metadata": {
  "kernelspec": {
   "display_name": "Python 3.6.5 64-bit ('3.6.5')",
   "language": "python",
   "name": "python3"
  },
  "language_info": {
   "codemirror_mode": {
    "name": "ipython",
    "version": 3
   },
   "file_extension": ".py",
   "mimetype": "text/x-python",
   "name": "python",
   "nbconvert_exporter": "python",
   "pygments_lexer": "ipython3",
   "version": "3.6.5"
  },
  "orig_nbformat": 4,
  "vscode": {
   "interpreter": {
    "hash": "607131a3d2a3dc43a1f8bac75288c1a017c2109cf12abfcb8b89d72723bd5f65"
   }
  }
 },
 "nbformat": 4,
 "nbformat_minor": 2
}
