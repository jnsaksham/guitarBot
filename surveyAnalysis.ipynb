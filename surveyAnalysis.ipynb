{
 "cells": [
  {
   "cell_type": "code",
   "execution_count": 16,
   "metadata": {},
   "outputs": [],
   "source": [
    "import pandas as pd\n",
    "import numpy as np\n",
    "import openpyxl"
   ]
  },
  {
   "cell_type": "markdown",
   "metadata": {},
   "source": [
    "### Data loading and cleaning"
   ]
  },
  {
   "cell_type": "code",
   "execution_count": 40,
   "metadata": {},
   "outputs": [],
   "source": [
    "def read_xlsx_file(file_name):\n",
    "    df = pd.read_excel(file_name, engine='openpyxl')\n",
    "    return df\n",
    "\n",
    "def extract_cols(df, cols):\n",
    "    df = df[cols]\n",
    "    return df\n",
    "\n",
    "def get_retained_col_names(df):\n",
    "    cols = df.columns\n",
    "    retained_cols = [cols[0]]\n",
    "    retained_cols.extend(list(cols[-45:]))\n",
    "    return retained_cols\n",
    "\n",
    "def load_data(file_name):\n",
    "    df = read_xlsx_file(file_name)\n",
    "    retained_cols = get_retained_col_names(df)\n",
    "    df = extract_cols(df, retained_cols)\n",
    "    return df"
   ]
  },
  {
   "cell_type": "markdown",
   "metadata": {},
   "source": [
    "### Load clean data"
   ]
  },
  {
   "cell_type": "code",
   "execution_count": 52,
   "metadata": {},
   "outputs": [],
   "source": [
    "fname = \"surveyResults.xlsx\"\n",
    "df = load_data(fname)\n",
    "# df.head()"
   ]
  },
  {
   "cell_type": "code",
   "execution_count": 59,
   "metadata": {},
   "outputs": [
    {
     "data": {
      "text/plain": [
       "Index(['Q13_1', 'Q13_11', 'Q13_13', 'Q13_15', 'Q13_16', 'Q13_18', 'Q17_4',\n",
       "       'Q17_5', 'Q17_6', 'Q14_1', 'Q14_11', 'Q14_13', 'Q14_15', 'Q14_16',\n",
       "       'Q14_18', 'Q18_4', 'Q18_5', 'Q18_6', 'Q15_1', 'Q15_11', 'Q15_13',\n",
       "       'Q15_15', 'Q15_16', 'Q15_18', 'Q19_4', 'Q19_5', 'Q19_6', 'Q16_1',\n",
       "       'Q16_11', 'Q16_13', 'Q16_15', 'Q16_16', 'Q16_18', 'Q20_4', 'Q20_5',\n",
       "       'Q20_6'],\n",
       "      dtype='object')"
      ]
     },
     "execution_count": 59,
     "metadata": {},
     "output_type": "execute_result"
    }
   ],
   "source": [
    "analysis_col_names = df.columns[10:]\n",
    "analysis_col_names"
   ]
  },
  {
   "cell_type": "code",
   "execution_count": 73,
   "metadata": {},
   "outputs": [],
   "source": [
    "# Create column question map\n",
    "col_question_map = {\n",
    "    '1A': [\n",
    "        'Q13_1',\n",
    "        'Q13_11',\n",
    "        'Q13_13',\n",
    "        'Q13_15',\n",
    "        'Q13_16',\n",
    "        'Q13_18'\n",
    "    ],\n",
    "    '1V': [\n",
    "        'Q17_4',\n",
    "        'Q17_5',\n",
    "        'Q17_6'\n",
    "    ],\n",
    "    '2A': [\n",
    "        'Q14_1', \n",
    "        'Q14_11', \n",
    "        'Q14_13', \n",
    "        'Q14_15', \n",
    "        'Q14_16',\n",
    "        'Q14_18'\n",
    "    ],\n",
    "    '2V':[\n",
    "        'Q18_4', \n",
    "        'Q18_5', \n",
    "        'Q18_6'\n",
    "    ],\n",
    "    '3A':[\n",
    "        'Q15_1', \n",
    "        'Q15_11', \n",
    "        'Q15_13',\n",
    "        'Q15_15',\n",
    "        'Q15_16',\n",
    "        'Q15_18'\n",
    "    ],\n",
    "    '3V':[\n",
    "        'Q19_4',\n",
    "        'Q19_5',\n",
    "        'Q19_6'\n",
    "    ],\n",
    "    '4A':[\n",
    "        'Q16_1',\n",
    "       'Q16_11',\n",
    "       'Q16_13',\n",
    "       'Q16_15',\n",
    "       'Q16_16',\n",
    "       'Q16_18'\n",
    "    ],\n",
    "    '4V':[\n",
    "        'Q20_4',\n",
    "        'Q20_5',\n",
    "        'Q20_6'\n",
    "    ]\n",
    "\n",
    " }\n",
    "\n",
    "optimization_types = ['H', 'R', 'G']\n",
    "q_nums = ['1', '2', '3', '4']"
   ]
  },
  {
   "cell_type": "code",
   "execution_count": 71,
   "metadata": {},
   "outputs": [],
   "source": [
    "# Write a function to get the value at the intersection of a row and a column\n",
    "def get_optimization_type(df, col_name):\n",
    "    value = df.loc[2, col_name]\n",
    "    return value\n",
    "\n",
    "def get_q_type(df,col_name):\n",
    "    value = df.loc[1, col_name]\n",
    "    if value == 'Audio-C':\n",
    "        return 'A1'\n",
    "    elif value == 'Audio':\n",
    "        return 'A2'\n",
    "    else:\n",
    "        return 'V'\n",
    "\n",
    "def get_q_num(df, col_name):\n",
    "    return df.loc[0, col_name]"
   ]
  },
  {
   "cell_type": "code",
   "execution_count": 75,
   "metadata": {},
   "outputs": [],
   "source": [
    "def plot_question(df, quesNum):\n",
    "    qA = str(quesNum)+'A'\n",
    "    qV = str(quesNum)+'V'\n",
    "    \n",
    "    # Get values corresponding to qA and qV from col_question_map and extend them as a list\n",
    "    col_names = col_question_map[qA]\n",
    "    col_names.extend(col_question_map[qV])\n",
    "\n",
    "    # Make a cluster bar chart with X axis being the test number\n",
    "    # clustering to be done by optimization types defined above\n",
    "    # Y axis is the average of the values in the columns\n"
   ]
  },
  {
   "cell_type": "code",
   "execution_count": null,
   "metadata": {},
   "outputs": [],
   "source": []
  },
  {
   "cell_type": "code",
   "execution_count": 69,
   "metadata": {},
   "outputs": [
    {
     "data": {
      "text/plain": [
       "'A1'"
      ]
     },
     "execution_count": 69,
     "metadata": {},
     "output_type": "execute_result"
    }
   ],
   "source": [
    "val = get_q_type(df,'Q13_1')\n",
    "val"
   ]
  },
  {
   "cell_type": "code",
   "execution_count": 61,
   "metadata": {},
   "outputs": [
    {
     "data": {
      "text/plain": [
       "'Audio-C'"
      ]
     },
     "execution_count": 61,
     "metadata": {},
     "output_type": "execute_result"
    }
   ],
   "source": [
    "val"
   ]
  },
  {
   "cell_type": "code",
   "execution_count": null,
   "metadata": {},
   "outputs": [],
   "source": []
  }
 ],
 "metadata": {
  "kernelspec": {
   "display_name": "Python 3.6.5 64-bit ('3.6.5')",
   "language": "python",
   "name": "python3"
  },
  "language_info": {
   "codemirror_mode": {
    "name": "ipython",
    "version": 3
   },
   "file_extension": ".py",
   "mimetype": "text/x-python",
   "name": "python",
   "nbconvert_exporter": "python",
   "pygments_lexer": "ipython3",
   "version": "3.6.5"
  },
  "orig_nbformat": 4,
  "vscode": {
   "interpreter": {
    "hash": "607131a3d2a3dc43a1f8bac75288c1a017c2109cf12abfcb8b89d72723bd5f65"
   }
  }
 },
 "nbformat": 4,
 "nbformat_minor": 2
}
